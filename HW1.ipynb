{
 "cells": [
  {
   "cell_type": "code",
   "execution_count": 1,
   "id": "06f7feec",
   "metadata": {},
   "outputs": [],
   "source": [
    "katok=[]\n",
    "\n",
    "def insert(i,data):\n",
    "    global katok\n",
    "    \n",
    "    for i in range(i,len(katok)):\n",
    "        temp=katok[i]\n",
    "        katok[i]=data\n",
    "        data=temp\n",
    "    katok.append(data)\n",
    "    \n",
    "    \n",
    "def delete(i):\n",
    "    global katok\n",
    "    \n",
    "    for i in range(i,len(katok)-1):\n",
    "        katok[i]=katok[i+1]\n",
    "    del(katok[len(katok)-1])"
   ]
  },
  {
   "cell_type": "code",
   "execution_count": 2,
   "id": "fae274be",
   "metadata": {},
   "outputs": [
    {
     "name": "stdout",
     "output_type": "stream",
     "text": [
      "선택하세요(1:추가,2:삭제,3:종료)-->1\n",
      "추가할 데이터-->'다현',200\n",
      "[('다현', 200)]\n",
      "선택하세요(1:추가,2:삭제,3:종료)-->1\n",
      "추가할 데이터-->'정연',150\n",
      "[('다현', 200), ('정연', 150)]\n",
      "선택하세요(1:추가,2:삭제,3:종료)-->1\n",
      "추가할 데이터-->'모모',170\n",
      "[('다현', 200), ('모모', 170), ('정연', 150)]\n",
      "선택하세요(1:추가,2:삭제,3:종료)-->2\n",
      "삭제할 순서-->2\n",
      "[('다현', 200), ('정연', 150)]\n",
      "선택하세요(1:추가,2:삭제,3:종료)-->2\n",
      "삭제할 순서-->3\n",
      "삭제할 데이터가 존재하지 않습니다.\n",
      "선택하세요(1:추가,2:삭제,3:종료)-->3\n"
     ]
    }
   ],
   "source": [
    "n=0\n",
    "while(n!=3):\n",
    "    n=int(input(\"선택하세요(1:추가,2:삭제,3:종료)-->\"))\n",
    "    if n==3:break\n",
    "    elif n==1:\n",
    "        is_min_or_empty=True\n",
    "        i=0\n",
    "        data=eval(input(\"추가할 데이터-->\"))\n",
    "        for i in range(len(katok)):\n",
    "            if katok[i][1]<data[1]:\n",
    "                is_min_or_empty=False\n",
    "                break\n",
    "        if is_min_or_empty==True:\n",
    "            katok.append(data)\n",
    "        else:\n",
    "            insert(i,data)\n",
    "        print(katok)\n",
    "        \n",
    "    else:\n",
    "        i=int(input(\"삭제할 순서-->\"))\n",
    "        if i<=0 or i>len(katok):\n",
    "            print(\"삭제할 데이터가 존재하지 않습니다.\")\n",
    "            continue\n",
    "        delete(i-1)\n",
    "        print(katok)\n",
    " "
   ]
  },
  {
   "cell_type": "code",
   "execution_count": null,
   "id": "c59409ed",
   "metadata": {},
   "outputs": [],
   "source": []
  }
 ],
 "metadata": {
  "kernelspec": {
   "display_name": "Python 3 (ipykernel)",
   "language": "python",
   "name": "python3"
  },
  "language_info": {
   "codemirror_mode": {
    "name": "ipython",
    "version": 3
   },
   "file_extension": ".py",
   "mimetype": "text/x-python",
   "name": "python",
   "nbconvert_exporter": "python",
   "pygments_lexer": "ipython3",
   "version": "3.10.7"
  }
 },
 "nbformat": 4,
 "nbformat_minor": 5
}
