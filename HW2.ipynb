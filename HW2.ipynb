{
 "cells": [
  {
   "cell_type": "markdown",
   "id": "1d9eeeba",
   "metadata": {},
   "source": [
    "# 연결리스트 구현"
   ]
  },
  {
   "cell_type": "code",
   "execution_count": 26,
   "id": "a6cc6ac9",
   "metadata": {},
   "outputs": [],
   "source": [
    "class Node():\n",
    "    def __init__(self,data):\n",
    "        self.data=data\n",
    "        self.link=None\n",
    "        \n",
    "class LinkedList():\n",
    "    def __init__(self):\n",
    "        self.head=None\n",
    "        \n",
    "    def printNode(self):\n",
    "        current=self.head\n",
    "        while current!=None:\n",
    "            print(current.data,end=\" \")\n",
    "            current=current.link\n",
    "        print()\n",
    "    \n",
    "    def findData(self,data):\n",
    "        current=self.head\n",
    "        pre=None\n",
    "        while current.data[1]<=data[1]:\n",
    "            pre=current\n",
    "            current=current.link \n",
    "            if current==None:\n",
    "                break\n",
    "        return pre\n",
    "    #pre가 None=> data가 head보다 작음\n",
    "    #current가 None=> data가 List에서 가장 큼\n",
    "    \n",
    "    \n",
    "    def insertData(self,data,pre):\n",
    "        n=Node(data)\n",
    "        if pre==None:\n",
    "            n.link=self.head\n",
    "            self.head=n\n",
    "        else:\n",
    "            n.link=pre.link\n",
    "            pre.link=n\n",
    "    \n",
    "    \n",
    "    def add(self,data):\n",
    "        if self.head==None:\n",
    "            self.head=Node(data)\n",
    "            self.end=self.head\n",
    "            self.pre=self.head\n",
    "        else:\n",
    "            pre=self.findData(data)\n",
    "            self.insertData(data,pre)\n",
    "    \n",
    "            "
   ]
  },
  {
   "cell_type": "markdown",
   "id": "82c78f7f",
   "metadata": {},
   "source": [
    "## 응용예제 01"
   ]
  },
  {
   "cell_type": "code",
   "execution_count": 28,
   "id": "1d37ce8c",
   "metadata": {},
   "outputs": [
    {
     "name": "stdout",
     "output_type": "stream",
     "text": [
      "이름-->혜리\n",
      "이메일-->herry@girls.com\n",
      "('혜리', 'herry@girls.com') \n",
      "이름-->유라\n",
      "이메일-->youra@girls.com\n",
      "('혜리', 'herry@girls.com') ('유라', 'youra@girls.com') \n",
      "이름-->소진\n",
      "이메일-->sojin@girls.com\n",
      "('혜리', 'herry@girls.com') ('소진', 'sojin@girls.com') ('유라', 'youra@girls.com') \n",
      "이름-->방민아\n",
      "이메일-->bma@girls.com\n",
      "('방민아', 'bma@girls.com') ('혜리', 'herry@girls.com') ('소진', 'sojin@girls.com') ('유라', 'youra@girls.com') \n",
      "이름-->\n"
     ]
    }
   ],
   "source": [
    "L=LinkedList()\n",
    "\n",
    "while True:\n",
    "    name=input(\"이름-->\")\n",
    "    if name=='':\n",
    "        break\n",
    "    e_mail=input(\"이메일-->\")\n",
    "    \n",
    "    data=(name,e_mail)\n",
    "    L.add(data)\n",
    "    L.printNode()\n",
    "    "
   ]
  },
  {
   "cell_type": "markdown",
   "id": "c2e4a159",
   "metadata": {},
   "source": [
    "## 응용예제 02"
   ]
  },
  {
   "cell_type": "code",
   "execution_count": 29,
   "id": "3aa89be0",
   "metadata": {},
   "outputs": [],
   "source": [
    "class Node():\n",
    "    def __init__(self,data=None):\n",
    "        self.data=data\n",
    "        self.link=None\n",
    "        \n",
    "class LinkedList():\n",
    "    def __init__(self):\n",
    "        self.head=None\n",
    "        self.end=None\n",
    "        self.pre=None\n",
    "    \n",
    "    def printNode(self):\n",
    "        current=self.head\n",
    "        while current!=None:\n",
    "            print(current.data,end=\" \")\n",
    "            current=current.link\n",
    "        print()\n",
    "    \n",
    "    def add(self,data):\n",
    "        if self.head==None:\n",
    "            self.head=Node(data)\n",
    "            self.end=self.head\n",
    "            self.pre=self.head\n",
    "        else:\n",
    "            self.pre=self.end\n",
    "            self.end=Node(data)\n",
    "            self.pre.link=self.end\n",
    "    \n",
    "    \n",
    "            \n",
    "    def findData(self,data):\n",
    "        current=self.head\n",
    "        pre=None\n",
    "        while current.data!=data:\n",
    "            pre=current\n",
    "            current=current.link \n",
    "            if current==None:\n",
    "                break\n",
    "        return pre,current\n",
    "    #pre가 None=> data가 head의 data\n",
    "    #current가 None=> data가 List에 없음\n",
    "    \n",
    "    \n",
    "    def deleteData(self,data):\n",
    "        pre,current=self.findData(data)\n",
    "        if current==None:\n",
    "            print(\"Data Not Found\")\n",
    "            return\n",
    "        elif pre==None:\n",
    "            temp=self.head\n",
    "            self.head=self.head.link\n",
    "            del(temp)\n",
    "        else:\n",
    "            pre.link=current.link\n",
    "            del(current)\n",
    "            \n",
    "            \n",
    "    def insertBackData(self,data,loc):\n",
    "        pre,current=self.findData(loc)\n",
    "        if current==None:\n",
    "            print(\"Data Location Not Found\")\n",
    "            return\n",
    "        elif pre==None:\n",
    "            temp=Node(data)\n",
    "            temp.link=self.head.link\n",
    "            self.head.link=temp\n",
    "        else:\n",
    "            temp=Node(data)\n",
    "            temp.link=current.link\n",
    "            current.link=temp\n",
    "            \n",
    "    def insertFrontData(self,data,loc):\n",
    "        pre,current=self.findData(loc)\n",
    "        if current==None:\n",
    "            print(\"Data Location Not Found\")\n",
    "            return\n",
    "        elif pre==None:\n",
    "            temp=Node(data)\n",
    "            temp.link=self.head\n",
    "            self.head=temp\n",
    "        else:\n",
    "            temp=Node(data)\n",
    "            pre.link=temp\n",
    "            temp.link=current\n",
    "            \n",
    "    "
   ]
  },
  {
   "cell_type": "code",
   "execution_count": 30,
   "id": "1ac56263",
   "metadata": {},
   "outputs": [
    {
     "name": "stdout",
     "output_type": "stream",
     "text": [
      "2 43 14 27 29 29 \n"
     ]
    }
   ],
   "source": [
    "import random as r\n",
    "\n",
    "L2=LinkedList()\n",
    "for i in range(6):\n",
    "    t=r.randrange(1,45)\n",
    "    L2.add(t)\n",
    "L2.printNode()"
   ]
  },
  {
   "cell_type": "markdown",
   "id": "f4c90fbd",
   "metadata": {},
   "source": [
    "# 원형연결리스트 \n",
    "## 응용예제 01"
   ]
  },
  {
   "cell_type": "code",
   "execution_count": 31,
   "id": "9ed4ec7b",
   "metadata": {},
   "outputs": [],
   "source": [
    "class Node():\n",
    "    def __init__(self,data):\n",
    "        self.data=data\n",
    "        self.link=None\n",
    "        self.dist=((data[1]**2+data[2]**2)**(1/2))\n",
    "        \n",
    "        \n",
    "class CircularLinkedList():\n",
    "    def __init__(self):\n",
    "        self.head=None\n",
    "        \n",
    "    def findLoc(self,temp):\n",
    "        current=self.head\n",
    "        pre=self.head\n",
    "        while True:\n",
    "            if temp.dist<current.dist:\n",
    "                break\n",
    "            pre=current\n",
    "            current=current.link\n",
    "            if current==self.head:\n",
    "                break\n",
    "        return pre,current\n",
    "        \n",
    "    def add(self,data):\n",
    "        temp=Node(data)\n",
    "        #빈 리스트\n",
    "        if self.head==None:\n",
    "            self.head=temp\n",
    "            self.head.link=self.head\n",
    "            return\n",
    "        #1개만 있을때\n",
    "        if self.head.link==self.head:\n",
    "            temp.link=self.head\n",
    "            self.head.link=temp\n",
    "            #head보다 작다면 새로운 head로 교체\n",
    "            if temp.dist<self.head.dist:\n",
    "                self.head=temp\n",
    "        #2개 이상\n",
    "        else:\n",
    "            pre,current=self.findLoc(temp)\n",
    "            #head보다 작다면\n",
    "            if pre==current:\n",
    "                temp.link=self.head\n",
    "                #head를 가리키던 마지막노드를 찾아\n",
    "                while current.link!=self.head:\n",
    "                    current=current.link\n",
    "                self.head=temp\n",
    "                #새로운 head를 가르킴\n",
    "                current.link=self.head\n",
    "            #중간삽입 or\n",
    "            #head보다 크더라도 current=head,pre=head가리키던 마지막노드라 삽입하면 됨\n",
    "            else:\n",
    "                temp.link=pre.link\n",
    "                pre.link=temp\n",
    "            \n",
    "\n",
    "    def printList(self):\n",
    "        current=self.head\n",
    "        while True:\n",
    "            print(current.data[0],\"편의점, 거리: \",current.dist)\n",
    "            current=current.link\n",
    "            if current==self.head:\n",
    "                break\n",
    "\n",
    "  "
   ]
  },
  {
   "cell_type": "code",
   "execution_count": 32,
   "id": "d1eef8d4",
   "metadata": {},
   "outputs": [
    {
     "name": "stdout",
     "output_type": "stream",
     "text": [
      "List에 삽입 전 정렬되지 않은 데이터\n",
      "A 편의점, 거리: 66.85057965343307\n",
      "B 편의점, 거리: 110.98198051936178\n",
      "C 편의점, 거리: 90.24965373894794\n",
      "D 편의점, 거리: 15.556349186104045\n",
      "E 편의점, 거리: 58.249463516842795\n",
      "F 편의점, 거리: 108.18964830333815\n",
      "G 편의점, 거리: 63.12685640834652\n",
      "H 편의점, 거리: 22.80350850198276\n",
      "I 편의점, 거리: 69.31810730249349\n",
      "J 편의점, 거리: 59.665735560705194\n"
     ]
    }
   ],
   "source": [
    "import random as r\n",
    "\n",
    "C=CircularLinkedList()\n",
    "print(\"List에 삽입 전 정렬되지 않은 데이터\")\n",
    "for i in range(10):\n",
    "    data=(chr(65+i),r.randrange(1,100),r.randrange(1,100))\n",
    "    print(data[0],\"편의점, 거리:\",((data[1]**2+data[2]**2)**(1/2)))\n",
    "    C.add(data)\n",
    "            "
   ]
  },
  {
   "cell_type": "code",
   "execution_count": 33,
   "id": "f18c7e58",
   "metadata": {},
   "outputs": [
    {
     "name": "stdout",
     "output_type": "stream",
     "text": [
      "List에 삽입 후 정렬된 데이터\n",
      "D 편의점, 거리:  15.556349186104045\n",
      "H 편의점, 거리:  22.80350850198276\n",
      "E 편의점, 거리:  58.249463516842795\n",
      "J 편의점, 거리:  59.665735560705194\n",
      "G 편의점, 거리:  63.12685640834652\n",
      "A 편의점, 거리:  66.85057965343307\n",
      "I 편의점, 거리:  69.31810730249349\n",
      "C 편의점, 거리:  90.24965373894794\n",
      "F 편의점, 거리:  108.18964830333815\n",
      "B 편의점, 거리:  110.98198051936178\n"
     ]
    }
   ],
   "source": [
    "print(\"List에 삽입 후 정렬된 데이터\")\n",
    "C.printList()"
   ]
  },
  {
   "cell_type": "markdown",
   "id": "9a65821b",
   "metadata": {},
   "source": [
    "# 이중연결리스트 \n",
    "## 응용예제 02"
   ]
  },
  {
   "cell_type": "code",
   "execution_count": 34,
   "id": "7f5927db",
   "metadata": {},
   "outputs": [],
   "source": [
    "class Node():\n",
    "    def __init__(self,data):\n",
    "        self.data=data\n",
    "        self.next=None\n",
    "        self.prev=None\n",
    "        \n",
    "class DoubleLinkedList():\n",
    "    def __init__(self):\n",
    "        self.head=None\n",
    "        self.tail=None\n",
    "        \n",
    "    def addback(self,data):\n",
    "        if self.head==None:\n",
    "            self.head=Node(data)\n",
    "            self.tail=self.head\n",
    "        else:\n",
    "            empty=Node(None)\n",
    "            empty=self.tail\n",
    "            self.tail=Node(data)\n",
    "            empty.next=self.tail\n",
    "            self.tail.prev=empty\n",
    "    \n",
    "    def addfront(self,data):\n",
    "        if self.head==None:\n",
    "            self.head=Node(data)\n",
    "            self.tail=self.head\n",
    "        else:\n",
    "            empty=Node(None)\n",
    "            empty=self.head\n",
    "            self.head=Node(data)\n",
    "            empty.prev=self.head\n",
    "            self.head.prev=empty\n",
    "\n",
    "    def printback(self):\n",
    "        cnt=self.head\n",
    "        print(\"정방향 --> \",end=\" \")\n",
    "        while cnt!=None:\n",
    "            print(cnt.data,\" \",end=\" \")\n",
    "            cnt=cnt.next\n",
    "        print()\n",
    "            \n",
    "    def printfront(self):\n",
    "        cnt=self.tail\n",
    "        print(\"역방향 --> \",end=\" \")\n",
    "        while cnt!=None:\n",
    "            print(cnt.data,\" \",end=\" \")\n",
    "            cnt=cnt.prev\n",
    "        print()\n",
    "        \n"
   ]
  },
  {
   "cell_type": "code",
   "execution_count": 35,
   "id": "f09c5ced",
   "metadata": {},
   "outputs": [
    {
     "name": "stdout",
     "output_type": "stream",
     "text": [
      "정방향 -->  다현   정연   쯔위   사나   지효   \n",
      "역방향 -->  지효   사나   쯔위   정연   다현   \n"
     ]
    }
   ],
   "source": [
    "D=DoubleLinkedList()\n",
    "D.addback(\"다현\")\n",
    "D.addback(\"정연\")\n",
    "D.addback(\"쯔위\")\n",
    "D.addback(\"사나\")\n",
    "D.addback(\"지효\")\n",
    "D.printback()\n",
    "D.printfront()"
   ]
  },
  {
   "cell_type": "markdown",
   "id": "e69076fc",
   "metadata": {},
   "source": [
    "# 스택구현"
   ]
  },
  {
   "cell_type": "code",
   "execution_count": 36,
   "id": "c1cadeac",
   "metadata": {},
   "outputs": [],
   "source": [
    "class Stack():\n",
    "    def __init__(self):\n",
    "        self.top=-1\n",
    "        self.stack=[]\n",
    "        \n",
    "    def push(self,data):\n",
    "        self.stack.append(data)\n",
    "        self.top+=1\n",
    "        \n",
    "    def pop(self):\n",
    "        a=self.stack[self.top]\n",
    "        self.top-=1\n",
    "        return a\n",
    "    \n",
    "    def isEmpty(self):\n",
    "        if self.top==-1:\n",
    "            return True\n",
    "        else:\n",
    "            return False"
   ]
  },
  {
   "cell_type": "markdown",
   "id": "5e34666c",
   "metadata": {},
   "source": [
    "## 응용예제 01"
   ]
  },
  {
   "cell_type": "code",
   "execution_count": 37,
   "id": "05af2473",
   "metadata": {},
   "outputs": [
    {
     "name": "stdout",
     "output_type": "stream",
     "text": [
      "과자집에 가는길 : 주황 --> 초록 --> 파랑 --> 보라 --> 빨강 --> 노랑 --> 과자집\n",
      "우리집에 오는길 : 노랑 --> 빨강 --> 보라 --> 파랑 --> 초록 --> 주황 --> 우리집\n"
     ]
    }
   ],
   "source": [
    "S=Stack()\n",
    "color=input(\"과자집에 가는길 : \").split(\" --> \")\n",
    "for i in color[:(len(color)-1)]:\n",
    "    S.push(i)\n",
    "print(\"우리집에 오는길 :\",end=\" \")\n",
    "while S.isEmpty()==False:\n",
    "    print(S.pop(),\"-->\",end=\" \")\n",
    "print(\"우리집\")"
   ]
  },
  {
   "cell_type": "markdown",
   "id": "5154ccdd",
   "metadata": {},
   "source": [
    "## 응용예제 02"
   ]
  },
  {
   "cell_type": "code",
   "execution_count": 38,
   "id": "efbd78e5",
   "metadata": {
    "scrolled": true
   },
   "outputs": [
    {
     "data": {
      "image/png": "[encoded data removed]",
      "text/plain": [
       "<PIL.PngImagePlugin.PngImageFile image mode=RGBA size=530x247>"
      ]
     },
     "execution_count": 38,
     "metadata": {},
     "output_type": "execute_result"
    }
   ],
   "source": [
    "#!pip3 install Image\n",
    "from PIL import Image\n",
    "fr=open('진달래꽃.txt','r',encoding='UTF8')\n",
    "r=fr.read()\n",
    "fr.close()\n",
    "S=Stack()\n",
    "for i in r:\n",
    "    S.push(i)\n",
    "w=[]\n",
    "while S.isEmpty()!=True:\n",
    "    w.append(S.pop())\n",
    "fw=open('진달래꽃2.txt','w',encoding='UTF8')\n",
    "fw.write(\"\".join(w))\n",
    "fw.close()\n",
    "Image.open('스택_02.png', mode = 'r')"
   ]
  },
  {
   "cell_type": "markdown",
   "id": "d15c0b1f",
   "metadata": {},
   "source": [
    "# 큐\n",
    "## 응용예제 01"
   ]
  },
  {
   "cell_type": "code",
   "execution_count": 39,
   "id": "da3990f8",
   "metadata": {},
   "outputs": [],
   "source": [
    "SIZE=5\n",
    "class Queue():\n",
    "    def __init__(self):\n",
    "        self.queue=[None for _ in range(SIZE)]\n",
    "        self.front=-1\n",
    "        self.rear=-1\n",
    "        \n",
    "    def isEmpty(self):\n",
    "        if self.front==self.rear:\n",
    "            return True\n",
    "        else:\n",
    "            return False\n",
    "        \n",
    "    def isFull(self):\n",
    "        if self.rear==SIZE-1:\n",
    "            return True\n",
    "        else:\n",
    "            return False\n",
    "    \n",
    "    def enQueue(self,data):\n",
    "        if self.isFull()==True:\n",
    "            print(\"Queue Is Full\")\n",
    "        else:\n",
    "            self.rear+=1\n",
    "            self.queue[self.rear]=data\n",
    "            print(data,\"님 줄 섬\")\n",
    "    \n",
    "    def deQueue(self):\n",
    "        if self.isEmpty()==True:\n",
    "            print(\"식당 영업 종료!\")\n",
    "        else:\n",
    "            self.front+=1\n",
    "            pop=self.queue[self.front]\n",
    "            for i in range(self.front+1,self.rear+1):\n",
    "                self.queue[i-1]=self.queue[i]\n",
    "            self.queue[self.rear]=None\n",
    "            self.front-=1\n",
    "            self.rear-=1\n",
    "            print(pop,\"님 식당에 들어감\")\n",
    "            \n",
    "    def printQueue(self):\n",
    "        print(\"대기 줄 상태:\",end=\" \")\n",
    "        for i in range(SIZE):\n",
    "            print(self.queue[i],end=\" \")\n",
    "        print()\n",
    "    "
   ]
  },
  {
   "cell_type": "code",
   "execution_count": 40,
   "id": "7b7576ed",
   "metadata": {},
   "outputs": [
    {
     "name": "stdout",
     "output_type": "stream",
     "text": [
      "정국 님 줄 섬\n",
      "대기 줄 상태: 정국 None None None None \n",
      "뷔 님 줄 섬\n",
      "대기 줄 상태: 정국 뷔 None None None \n",
      "지민 님 줄 섬\n",
      "대기 줄 상태: 정국 뷔 지민 None None \n",
      "진 님 줄 섬\n",
      "대기 줄 상태: 정국 뷔 지민 진 None \n",
      "슈가 님 줄 섬\n",
      "대기 줄 상태: 정국 뷔 지민 진 슈가 \n"
     ]
    }
   ],
   "source": [
    "Q=Queue()\n",
    "Q.enQueue(\"정국\")\n",
    "Q.printQueue()\n",
    "Q.enQueue(\"뷔\")\n",
    "Q.printQueue()\n",
    "Q.enQueue(\"지민\")\n",
    "Q.printQueue()\n",
    "Q.enQueue(\"진\")\n",
    "Q.printQueue()\n",
    "Q.enQueue(\"슈가\")\n",
    "Q.printQueue()"
   ]
  },
  {
   "cell_type": "code",
   "execution_count": 41,
   "id": "78609018",
   "metadata": {},
   "outputs": [
    {
     "name": "stdout",
     "output_type": "stream",
     "text": [
      "대기 줄 상태: 정국 뷔 지민 진 슈가 \n",
      "정국 님 식당에 들어감\n",
      "대기 줄 상태: 뷔 지민 진 슈가 None \n",
      "뷔 님 식당에 들어감\n",
      "대기 줄 상태: 지민 진 슈가 None None \n",
      "지민 님 식당에 들어감\n",
      "대기 줄 상태: 진 슈가 None None None \n",
      "진 님 식당에 들어감\n",
      "대기 줄 상태: 슈가 None None None None \n",
      "슈가 님 식당에 들어감\n",
      "대기 줄 상태: None None None None None \n",
      "식당 영업 종료!\n"
     ]
    }
   ],
   "source": [
    "for i in range(SIZE+1):\n",
    "    Q.printQueue()\n",
    "    Q.deQueue()\n",
    "    "
   ]
  },
  {
   "cell_type": "markdown",
   "id": "a08b51a4",
   "metadata": {},
   "source": [
    "## 응용예제 02"
   ]
  },
  {
   "cell_type": "code",
   "execution_count": 42,
   "id": "efc7a32e",
   "metadata": {},
   "outputs": [],
   "source": [
    "SIZE=6\n",
    "class circularQueue():\n",
    "    def __init__(self):\n",
    "        self.queue=[None for _ in range(SIZE)]\n",
    "        self.front=0\n",
    "        self.rear=0\n",
    "        \n",
    "    def isEmpty(self):\n",
    "        if self.front==self.rear:\n",
    "            return True\n",
    "        else:\n",
    "            return False\n",
    "        \n",
    "    def isFull(self):\n",
    "        if (self.rear+1)%SIZE==self.front:\n",
    "            return True\n",
    "        else:\n",
    "            return False\n",
    "    \n",
    "    def enQueue(self,data):\n",
    "        if self.isFull()==True:\n",
    "            return\n",
    "        else:\n",
    "            self.rear=(self.rear+1)%SIZE\n",
    "            self.queue[self.rear]=data\n",
    "    \n",
    "    def deQueue(self):\n",
    "        if self.isEmpty()==True:\n",
    "            return\n",
    "        else:\n",
    "            self.front=(self.front+1)%SIZE\n",
    "            pop=self.queue[self.front]\n",
    "            self.queue[self.front]=None\n",
    "            \n",
    "    def printQueue(self):\n",
    "        if self.isFull()==True:\n",
    "            print(\"최종 대기 콜 -->\",end=\" \")\n",
    "        else:\n",
    "            print(\"현재 대기 콜 -->\",end=\" \")\n",
    "        sum=0\n",
    "        for i in range(SIZE):\n",
    "            if self.queue[i]!=None:\n",
    "                sum+=self.queue[i][1]\n",
    "            print(self.queue[i],end=\" \")\n",
    "        print()\n",
    "        print(\"귀하의 대기 예상시간은\",sum,\"분입니다.\")\n",
    "        if self.isFull()==True:\n",
    "            print(\"프로그램 종료~!!\",end=\" \")\n",
    "        \n",
    "    "
   ]
  },
  {
   "cell_type": "code",
   "execution_count": 43,
   "id": "38b3f5d2",
   "metadata": {},
   "outputs": [
    {
     "name": "stdout",
     "output_type": "stream",
     "text": [
      "현재 대기 콜 --> None ('사용', 9) None None None None \n",
      "귀하의 대기 예상시간은 9 분입니다.\n",
      "현재 대기 콜 --> None ('사용', 9) ('고장', 3) None None None \n",
      "귀하의 대기 예상시간은 12 분입니다.\n",
      "현재 대기 콜 --> None ('사용', 9) ('고장', 3) ('환불', 4) None None \n",
      "귀하의 대기 예상시간은 16 분입니다.\n",
      "현재 대기 콜 --> None ('사용', 9) ('고장', 3) ('환불', 4) ('환불', 4) None \n",
      "귀하의 대기 예상시간은 20 분입니다.\n",
      "최종 대기 콜 --> None ('사용', 9) ('고장', 3) ('환불', 4) ('환불', 4) ('고장', 3) \n",
      "귀하의 대기 예상시간은 23 분입니다.\n",
      "프로그램 종료~!! "
     ]
    }
   ],
   "source": [
    "Q=circularQueue()\n",
    "Q.enQueue((\"사용\",9))\n",
    "Q.printQueue()\n",
    "Q.enQueue((\"고장\",3))\n",
    "Q.printQueue()\n",
    "Q.enQueue((\"환불\",4))\n",
    "Q.printQueue()\n",
    "Q.enQueue((\"환불\",4))\n",
    "Q.printQueue()\n",
    "Q.enQueue((\"고장\",3))\n",
    "Q.printQueue()"
   ]
  },
  {
   "cell_type": "code",
   "execution_count": null,
   "id": "469cb3f1",
   "metadata": {},
   "outputs": [],
   "source": []
  },
  {
   "cell_type": "code",
   "execution_count": null,
   "id": "9ae35d3b",
   "metadata": {},
   "outputs": [],
   "source": []
  }
 ],
 "metadata": {
  "kernelspec": {
   "display_name": "Python 3 (ipykernel)",
   "language": "python",
   "name": "python3"
  },
  "language_info": {
   "codemirror_mode": {
    "name": "ipython",
    "version": 3
   },
   "file_extension": ".py",
   "mimetype": "text/x-python",
   "name": "python",
   "nbconvert_exporter": "python",
   "pygments_lexer": "ipython3",
   "version": "3.9.0"
  }
 },
 "nbformat": 4,
 "nbformat_minor": 5
}
